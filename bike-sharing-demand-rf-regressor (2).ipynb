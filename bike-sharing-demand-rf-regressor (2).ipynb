{
 "cells": [
  {
   "cell_type": "code",
   "execution_count": 1,
   "id": "1bf55f17",
   "metadata": {
    "execution": {
     "iopub.execute_input": "2021-11-20T12:15:07.557341Z",
     "iopub.status.busy": "2021-11-20T12:15:07.556443Z",
     "iopub.status.idle": "2021-11-20T12:15:08.884076Z",
     "shell.execute_reply": "2021-11-20T12:15:08.882999Z",
     "shell.execute_reply.started": "2021-11-20T12:09:32.899305Z"
    },
    "papermill": {
     "duration": 1.358398,
     "end_time": "2021-11-20T12:15:08.884239",
     "exception": false,
     "start_time": "2021-11-20T12:15:07.525841",
     "status": "completed"
    },
    "tags": []
   },
   "outputs": [],
   "source": [
    "%matplotlib inline\n",
    "import numpy as np\n",
    "import pandas as pd\n",
    "import matplotlib.pyplot as plt\n",
    "import seaborn as sns\n",
    "import sklearn\n",
    "from sklearn.model_selection import train_test_split\n",
    "from sklearn.preprocessing import StandardScaler\n",
    "from sklearn.ensemble import RandomForestRegressor\n",
    "from sklearn import metrics"
   ]
  },
  {
   "cell_type": "code",
   "execution_count": 2,
   "id": "09cd24a8",
   "metadata": {
    "execution": {
     "iopub.execute_input": "2021-11-20T12:15:08.921134Z",
     "iopub.status.busy": "2021-11-20T12:15:08.920560Z",
     "iopub.status.idle": "2021-11-20T12:15:08.973517Z",
     "shell.execute_reply": "2021-11-20T12:15:08.973938Z",
     "shell.execute_reply.started": "2021-11-20T12:09:32.946572Z"
    },
    "papermill": {
     "duration": 0.071777,
     "end_time": "2021-11-20T12:15:08.974126",
     "exception": false,
     "start_time": "2021-11-20T12:15:08.902349",
     "status": "completed"
    },
    "tags": []
   },
   "outputs": [],
   "source": [
    "train = pd.read_csv(r\"../input/bike-sharing-demand/train.csv\", parse_dates = [\"datetime\"])"
   ]
  },
  {
   "cell_type": "code",
   "execution_count": 3,
   "id": "8695db04",
   "metadata": {
    "execution": {
     "iopub.execute_input": "2021-11-20T12:15:09.011273Z",
     "iopub.status.busy": "2021-11-20T12:15:09.010572Z",
     "iopub.status.idle": "2021-11-20T12:15:09.034247Z",
     "shell.execute_reply": "2021-11-20T12:15:09.033764Z",
     "shell.execute_reply.started": "2021-11-20T12:09:32.981443Z"
    },
    "papermill": {
     "duration": 0.044547,
     "end_time": "2021-11-20T12:15:09.034386",
     "exception": false,
     "start_time": "2021-11-20T12:15:08.989839",
     "status": "completed"
    },
    "tags": []
   },
   "outputs": [],
   "source": [
    "test = pd.read_csv(r\"../input/bike-sharing-demand/test.csv\", parse_dates = [\"datetime\"])"
   ]
  },
  {
   "cell_type": "code",
   "execution_count": 4,
   "id": "83d14469",
   "metadata": {
    "execution": {
     "iopub.execute_input": "2021-11-20T12:15:09.075424Z",
     "iopub.status.busy": "2021-11-20T12:15:09.074722Z",
     "iopub.status.idle": "2021-11-20T12:15:09.105336Z",
     "shell.execute_reply": "2021-11-20T12:15:09.106105Z",
     "shell.execute_reply.started": "2021-11-20T12:09:33.002989Z"
    },
    "papermill": {
     "duration": 0.054361,
     "end_time": "2021-11-20T12:15:09.106282",
     "exception": false,
     "start_time": "2021-11-20T12:15:09.051921",
     "status": "completed"
    },
    "tags": []
   },
   "outputs": [],
   "source": [
    "train[\"year\"] = train[\"datetime\"].dt.year\n",
    "train[\"hour\"] = train[\"datetime\"].dt.hour\n",
    "train[\"dayofweek\"] = train[\"datetime\"].dt.dayofweek\n",
    "train[\"month\"] = train[\"datetime\"].dt.month\n",
    "\n",
    "test[\"year\"] = test[\"datetime\"].dt.year\n",
    "test[\"hour\"] = test[\"datetime\"].dt.hour\n",
    "test[\"dayofweek\"] = test[\"datetime\"].dt.dayofweek\n",
    "test[\"month\"] = test[\"datetime\"].dt.month"
   ]
  },
  {
   "cell_type": "code",
   "execution_count": 5,
   "id": "e208bd10",
   "metadata": {
    "execution": {
     "iopub.execute_input": "2021-11-20T12:15:09.145937Z",
     "iopub.status.busy": "2021-11-20T12:15:09.145373Z",
     "iopub.status.idle": "2021-11-20T12:15:09.157425Z",
     "shell.execute_reply": "2021-11-20T12:15:09.157850Z",
     "shell.execute_reply.started": "2021-11-20T12:09:33.025451Z"
    },
    "papermill": {
     "duration": 0.03394,
     "end_time": "2021-11-20T12:15:09.158037",
     "exception": false,
     "start_time": "2021-11-20T12:15:09.124097",
     "status": "completed"
    },
    "tags": []
   },
   "outputs": [],
   "source": [
    "cols = list(train.columns.values)\n",
    "cols.pop(cols.index('count'))\n",
    "train = train[cols + ['count']]"
   ]
  },
  {
   "cell_type": "code",
   "execution_count": 6,
   "id": "a6f76ff1",
   "metadata": {
    "execution": {
     "iopub.execute_input": "2021-11-20T12:15:09.193131Z",
     "iopub.status.busy": "2021-11-20T12:15:09.192557Z",
     "iopub.status.idle": "2021-11-20T12:15:09.211207Z",
     "shell.execute_reply": "2021-11-20T12:15:09.211645Z",
     "shell.execute_reply.started": "2021-11-20T12:09:33.037431Z"
    },
    "papermill": {
     "duration": 0.037696,
     "end_time": "2021-11-20T12:15:09.211797",
     "exception": false,
     "start_time": "2021-11-20T12:15:09.174101",
     "status": "completed"
    },
    "tags": []
   },
   "outputs": [
    {
     "data": {
      "text/html": [
       "<div>\n",
       "<style scoped>\n",
       "    .dataframe tbody tr th:only-of-type {\n",
       "        vertical-align: middle;\n",
       "    }\n",
       "\n",
       "    .dataframe tbody tr th {\n",
       "        vertical-align: top;\n",
       "    }\n",
       "\n",
       "    .dataframe thead th {\n",
       "        text-align: right;\n",
       "    }\n",
       "</style>\n",
       "<table border=\"1\" class=\"dataframe\">\n",
       "  <thead>\n",
       "    <tr style=\"text-align: right;\">\n",
       "      <th></th>\n",
       "      <th>datetime</th>\n",
       "      <th>season</th>\n",
       "      <th>holiday</th>\n",
       "      <th>workingday</th>\n",
       "      <th>weather</th>\n",
       "      <th>temp</th>\n",
       "      <th>atemp</th>\n",
       "      <th>humidity</th>\n",
       "      <th>windspeed</th>\n",
       "      <th>casual</th>\n",
       "      <th>registered</th>\n",
       "      <th>year</th>\n",
       "      <th>hour</th>\n",
       "      <th>dayofweek</th>\n",
       "      <th>month</th>\n",
       "      <th>count</th>\n",
       "    </tr>\n",
       "  </thead>\n",
       "  <tbody>\n",
       "    <tr>\n",
       "      <th>0</th>\n",
       "      <td>2011-01-01 00:00:00</td>\n",
       "      <td>1</td>\n",
       "      <td>0</td>\n",
       "      <td>0</td>\n",
       "      <td>1</td>\n",
       "      <td>9.84</td>\n",
       "      <td>14.395</td>\n",
       "      <td>81</td>\n",
       "      <td>0.0</td>\n",
       "      <td>3</td>\n",
       "      <td>13</td>\n",
       "      <td>2011</td>\n",
       "      <td>0</td>\n",
       "      <td>5</td>\n",
       "      <td>1</td>\n",
       "      <td>16</td>\n",
       "    </tr>\n",
       "    <tr>\n",
       "      <th>1</th>\n",
       "      <td>2011-01-01 01:00:00</td>\n",
       "      <td>1</td>\n",
       "      <td>0</td>\n",
       "      <td>0</td>\n",
       "      <td>1</td>\n",
       "      <td>9.02</td>\n",
       "      <td>13.635</td>\n",
       "      <td>80</td>\n",
       "      <td>0.0</td>\n",
       "      <td>8</td>\n",
       "      <td>32</td>\n",
       "      <td>2011</td>\n",
       "      <td>1</td>\n",
       "      <td>5</td>\n",
       "      <td>1</td>\n",
       "      <td>40</td>\n",
       "    </tr>\n",
       "    <tr>\n",
       "      <th>2</th>\n",
       "      <td>2011-01-01 02:00:00</td>\n",
       "      <td>1</td>\n",
       "      <td>0</td>\n",
       "      <td>0</td>\n",
       "      <td>1</td>\n",
       "      <td>9.02</td>\n",
       "      <td>13.635</td>\n",
       "      <td>80</td>\n",
       "      <td>0.0</td>\n",
       "      <td>5</td>\n",
       "      <td>27</td>\n",
       "      <td>2011</td>\n",
       "      <td>2</td>\n",
       "      <td>5</td>\n",
       "      <td>1</td>\n",
       "      <td>32</td>\n",
       "    </tr>\n",
       "    <tr>\n",
       "      <th>3</th>\n",
       "      <td>2011-01-01 03:00:00</td>\n",
       "      <td>1</td>\n",
       "      <td>0</td>\n",
       "      <td>0</td>\n",
       "      <td>1</td>\n",
       "      <td>9.84</td>\n",
       "      <td>14.395</td>\n",
       "      <td>75</td>\n",
       "      <td>0.0</td>\n",
       "      <td>3</td>\n",
       "      <td>10</td>\n",
       "      <td>2011</td>\n",
       "      <td>3</td>\n",
       "      <td>5</td>\n",
       "      <td>1</td>\n",
       "      <td>13</td>\n",
       "    </tr>\n",
       "    <tr>\n",
       "      <th>4</th>\n",
       "      <td>2011-01-01 04:00:00</td>\n",
       "      <td>1</td>\n",
       "      <td>0</td>\n",
       "      <td>0</td>\n",
       "      <td>1</td>\n",
       "      <td>9.84</td>\n",
       "      <td>14.395</td>\n",
       "      <td>75</td>\n",
       "      <td>0.0</td>\n",
       "      <td>0</td>\n",
       "      <td>1</td>\n",
       "      <td>2011</td>\n",
       "      <td>4</td>\n",
       "      <td>5</td>\n",
       "      <td>1</td>\n",
       "      <td>1</td>\n",
       "    </tr>\n",
       "  </tbody>\n",
       "</table>\n",
       "</div>"
      ],
      "text/plain": [
       "             datetime  season  holiday  workingday  weather  temp   atemp  \\\n",
       "0 2011-01-01 00:00:00       1        0           0        1  9.84  14.395   \n",
       "1 2011-01-01 01:00:00       1        0           0        1  9.02  13.635   \n",
       "2 2011-01-01 02:00:00       1        0           0        1  9.02  13.635   \n",
       "3 2011-01-01 03:00:00       1        0           0        1  9.84  14.395   \n",
       "4 2011-01-01 04:00:00       1        0           0        1  9.84  14.395   \n",
       "\n",
       "   humidity  windspeed  casual  registered  year  hour  dayofweek  month  \\\n",
       "0        81        0.0       3          13  2011     0          5      1   \n",
       "1        80        0.0       8          32  2011     1          5      1   \n",
       "2        80        0.0       5          27  2011     2          5      1   \n",
       "3        75        0.0       3          10  2011     3          5      1   \n",
       "4        75        0.0       0           1  2011     4          5      1   \n",
       "\n",
       "   count  \n",
       "0     16  \n",
       "1     40  \n",
       "2     32  \n",
       "3     13  \n",
       "4      1  "
      ]
     },
     "execution_count": 6,
     "metadata": {},
     "output_type": "execute_result"
    }
   ],
   "source": [
    "train.head()"
   ]
  },
  {
   "cell_type": "code",
   "execution_count": 7,
   "id": "0d73b4eb",
   "metadata": {
    "execution": {
     "iopub.execute_input": "2021-11-20T12:15:09.247561Z",
     "iopub.status.busy": "2021-11-20T12:15:09.246977Z",
     "iopub.status.idle": "2021-11-20T12:15:09.263604Z",
     "shell.execute_reply": "2021-11-20T12:15:09.262915Z",
     "shell.execute_reply.started": "2021-11-20T12:09:33.066431Z"
    },
    "papermill": {
     "duration": 0.034755,
     "end_time": "2021-11-20T12:15:09.263781",
     "exception": false,
     "start_time": "2021-11-20T12:15:09.229026",
     "status": "completed"
    },
    "tags": []
   },
   "outputs": [
    {
     "name": "stdout",
     "output_type": "stream",
     "text": [
      "<class 'pandas.core.frame.DataFrame'>\n",
      "RangeIndex: 10886 entries, 0 to 10885\n",
      "Data columns (total 16 columns):\n",
      " #   Column      Non-Null Count  Dtype         \n",
      "---  ------      --------------  -----         \n",
      " 0   datetime    10886 non-null  datetime64[ns]\n",
      " 1   season      10886 non-null  int64         \n",
      " 2   holiday     10886 non-null  int64         \n",
      " 3   workingday  10886 non-null  int64         \n",
      " 4   weather     10886 non-null  int64         \n",
      " 5   temp        10886 non-null  float64       \n",
      " 6   atemp       10886 non-null  float64       \n",
      " 7   humidity    10886 non-null  int64         \n",
      " 8   windspeed   10886 non-null  float64       \n",
      " 9   casual      10886 non-null  int64         \n",
      " 10  registered  10886 non-null  int64         \n",
      " 11  year        10886 non-null  int64         \n",
      " 12  hour        10886 non-null  int64         \n",
      " 13  dayofweek   10886 non-null  int64         \n",
      " 14  month       10886 non-null  int64         \n",
      " 15  count       10886 non-null  int64         \n",
      "dtypes: datetime64[ns](1), float64(3), int64(12)\n",
      "memory usage: 1.3 MB\n"
     ]
    }
   ],
   "source": [
    "train.info()"
   ]
  },
  {
   "cell_type": "code",
   "execution_count": 8,
   "id": "ed5e9358",
   "metadata": {
    "execution": {
     "iopub.execute_input": "2021-11-20T12:15:09.316052Z",
     "iopub.status.busy": "2021-11-20T12:15:09.315328Z",
     "iopub.status.idle": "2021-11-20T12:15:09.939482Z",
     "shell.execute_reply": "2021-11-20T12:15:09.938825Z",
     "shell.execute_reply.started": "2021-11-20T12:09:33.082715Z"
    },
    "papermill": {
     "duration": 0.657587,
     "end_time": "2021-11-20T12:15:09.939618",
     "exception": false,
     "start_time": "2021-11-20T12:15:09.282031",
     "status": "completed"
    },
    "tags": []
   },
   "outputs": [
    {
     "data": {
      "text/plain": [
       "<AxesSubplot:xlabel='hour', ylabel='count'>"
      ]
     },
     "execution_count": 8,
     "metadata": {},
     "output_type": "execute_result"
    },
    {
     "data": {
      "image/png": "[encoded data removed]",
      "text/plain": [
       "<Figure size 1440x864 with 1 Axes>"
      ]
     },
     "metadata": {
      "needs_background": "light"
     },
     "output_type": "display_data"
    }
   ],
   "source": [
    "_, axes = plt.subplots(1, 1, figsize = (20,12))\n",
    "sns.boxplot(x = train[\"hour\"], y = train[\"count\"])"
   ]
  },
  {
   "cell_type": "code",
   "execution_count": 9,
   "id": "1566f98e",
   "metadata": {
    "execution": {
     "iopub.execute_input": "2021-11-20T12:15:09.978933Z",
     "iopub.status.busy": "2021-11-20T12:15:09.978366Z",
     "iopub.status.idle": "2021-11-20T12:15:10.716761Z",
     "shell.execute_reply": "2021-11-20T12:15:10.717163Z",
     "shell.execute_reply.started": "2021-11-20T12:09:33.814694Z"
    },
    "papermill": {
     "duration": 0.759402,
     "end_time": "2021-11-20T12:15:10.717331",
     "exception": false,
     "start_time": "2021-11-20T12:15:09.957929",
     "status": "completed"
    },
    "tags": []
   },
   "outputs": [
    {
     "name": "stderr",
     "output_type": "stream",
     "text": [
      "/opt/conda/lib/python3.7/site-packages/seaborn/_decorators.py:43: FutureWarning: Pass the following variable as a keyword arg: x. From version 0.12, the only valid positional argument will be `data`, and passing other arguments without an explicit keyword will result in an error or misinterpretation.\n",
      "  FutureWarning\n",
      "/opt/conda/lib/python3.7/site-packages/seaborn/_decorators.py:43: FutureWarning: Pass the following variable as a keyword arg: x. From version 0.12, the only valid positional argument will be `data`, and passing other arguments without an explicit keyword will result in an error or misinterpretation.\n",
      "  FutureWarning\n",
      "/opt/conda/lib/python3.7/site-packages/seaborn/_decorators.py:43: FutureWarning: Pass the following variable as a keyword arg: x. From version 0.12, the only valid positional argument will be `data`, and passing other arguments without an explicit keyword will result in an error or misinterpretation.\n",
      "  FutureWarning\n"
     ]
    },
    {
     "data": {
      "text/plain": [
       "<AxesSubplot:xlabel='windspeed', ylabel='count'>"
      ]
     },
     "execution_count": 9,
     "metadata": {},
     "output_type": "execute_result"
    },
    {
     "data": {
      "image/png": "[encoded data removed]",
      "text/plain": [
       "<Figure size 1440x864 with 3 Axes>"
      ]
     },
     "metadata": {
      "needs_background": "light"
     },
     "output_type": "display_data"
    }
   ],
   "source": [
    "fig, axes = plt.subplots(3,1, figsize = (20,12))\n",
    "\n",
    "sns.countplot(train[\"season\"], ax = axes[0], palette = \"pastel\")\n",
    "sns.countplot(train[\"weather\"], ax = axes[1], palette = \"pastel\")\n",
    "sns.countplot(train[\"windspeed\"], ax = axes[2])"
   ]
  },
  {
   "cell_type": "code",
   "execution_count": 10,
   "id": "488b7642",
   "metadata": {
    "execution": {
     "iopub.execute_input": "2021-11-20T12:15:10.763009Z",
     "iopub.status.busy": "2021-11-20T12:15:10.762392Z",
     "iopub.status.idle": "2021-11-20T12:15:12.469404Z",
     "shell.execute_reply": "2021-11-20T12:15:12.468936Z",
     "shell.execute_reply.started": "2021-11-20T12:09:34.660735Z"
    },
    "papermill": {
     "duration": 1.732725,
     "end_time": "2021-11-20T12:15:12.469540",
     "exception": false,
     "start_time": "2021-11-20T12:15:10.736815",
     "status": "completed"
    },
    "tags": []
   },
   "outputs": [
    {
     "name": "stderr",
     "output_type": "stream",
     "text": [
      "/opt/conda/lib/python3.7/site-packages/seaborn/_decorators.py:43: FutureWarning: Pass the following variable as a keyword arg: x. From version 0.12, the only valid positional argument will be `data`, and passing other arguments without an explicit keyword will result in an error or misinterpretation.\n",
      "  FutureWarning\n",
      "/opt/conda/lib/python3.7/site-packages/seaborn/_decorators.py:43: FutureWarning: Pass the following variable as a keyword arg: x. From version 0.12, the only valid positional argument will be `data`, and passing other arguments without an explicit keyword will result in an error or misinterpretation.\n",
      "  FutureWarning\n",
      "/opt/conda/lib/python3.7/site-packages/seaborn/_decorators.py:43: FutureWarning: Pass the following variable as a keyword arg: x. From version 0.12, the only valid positional argument will be `data`, and passing other arguments without an explicit keyword will result in an error or misinterpretation.\n",
      "  FutureWarning\n"
     ]
    },
    {
     "data": {
      "text/plain": [
       "<AxesSubplot:xlabel='month', ylabel='count'>"
      ]
     },
     "execution_count": 10,
     "metadata": {},
     "output_type": "execute_result"
    },
    {
     "data": {
      "image/png": "[encoded data removed]",
      "text/plain": [
       "<Figure size 1440x864 with 3 Axes>"
      ]
     },
     "metadata": {
      "needs_background": "light"
     },
     "output_type": "display_data"
    }
   ],
   "source": [
    "fig, axes = plt.subplots(3,1, figsize = (20,12))\n",
    "\n",
    "sns.countplot(train[\"atemp\"], ax = axes[0])\n",
    "sns.countplot(train[\"temp\"], ax = axes[1])\n",
    "sns.countplot(train[\"month\"], ax = axes[2])"
   ]
  },
  {
   "cell_type": "code",
   "execution_count": 11,
   "id": "59ff5c83",
   "metadata": {
    "execution": {
     "iopub.execute_input": "2021-11-20T12:15:12.518778Z",
     "iopub.status.busy": "2021-11-20T12:15:12.518151Z",
     "iopub.status.idle": "2021-11-20T12:15:12.680325Z",
     "shell.execute_reply": "2021-11-20T12:15:12.679800Z",
     "shell.execute_reply.started": "2021-11-20T12:09:36.619921Z"
    },
    "papermill": {
     "duration": 0.189134,
     "end_time": "2021-11-20T12:15:12.680470",
     "exception": false,
     "start_time": "2021-11-20T12:15:12.491336",
     "status": "completed"
    },
    "tags": []
   },
   "outputs": [],
   "source": [
    "X = pd.DataFrame(train.iloc[:, :-1].values)\n",
    "y = train.iloc[:, -1].values"
   ]
  },
  {
   "cell_type": "code",
   "execution_count": 12,
   "id": "6728e34a",
   "metadata": {
    "execution": {
     "iopub.execute_input": "2021-11-20T12:15:12.727031Z",
     "iopub.status.busy": "2021-11-20T12:15:12.726432Z",
     "iopub.status.idle": "2021-11-20T12:15:12.745275Z",
     "shell.execute_reply": "2021-11-20T12:15:12.745807Z",
     "shell.execute_reply.started": "2021-11-20T12:09:36.695638Z"
    },
    "papermill": {
     "duration": 0.043585,
     "end_time": "2021-11-20T12:15:12.745971",
     "exception": false,
     "start_time": "2021-11-20T12:15:12.702386",
     "status": "completed"
    },
    "scrolled": true,
    "tags": []
   },
   "outputs": [
    {
     "data": {
      "text/html": [
       "<div>\n",
       "<style scoped>\n",
       "    .dataframe tbody tr th:only-of-type {\n",
       "        vertical-align: middle;\n",
       "    }\n",
       "\n",
       "    .dataframe tbody tr th {\n",
       "        vertical-align: top;\n",
       "    }\n",
       "\n",
       "    .dataframe thead th {\n",
       "        text-align: right;\n",
       "    }\n",
       "</style>\n",
       "<table border=\"1\" class=\"dataframe\">\n",
       "  <thead>\n",
       "    <tr style=\"text-align: right;\">\n",
       "      <th></th>\n",
       "      <th>0</th>\n",
       "      <th>1</th>\n",
       "      <th>2</th>\n",
       "      <th>3</th>\n",
       "      <th>4</th>\n",
       "      <th>5</th>\n",
       "      <th>6</th>\n",
       "      <th>7</th>\n",
       "      <th>8</th>\n",
       "      <th>9</th>\n",
       "      <th>10</th>\n",
       "      <th>11</th>\n",
       "      <th>12</th>\n",
       "      <th>13</th>\n",
       "      <th>14</th>\n",
       "    </tr>\n",
       "  </thead>\n",
       "  <tbody>\n",
       "    <tr>\n",
       "      <th>0</th>\n",
       "      <td>2011-01-01 00:00:00</td>\n",
       "      <td>1</td>\n",
       "      <td>0</td>\n",
       "      <td>0</td>\n",
       "      <td>1</td>\n",
       "      <td>9.84</td>\n",
       "      <td>14.395</td>\n",
       "      <td>81</td>\n",
       "      <td>0.0</td>\n",
       "      <td>3</td>\n",
       "      <td>13</td>\n",
       "      <td>2011</td>\n",
       "      <td>0</td>\n",
       "      <td>5</td>\n",
       "      <td>1</td>\n",
       "    </tr>\n",
       "    <tr>\n",
       "      <th>1</th>\n",
       "      <td>2011-01-01 01:00:00</td>\n",
       "      <td>1</td>\n",
       "      <td>0</td>\n",
       "      <td>0</td>\n",
       "      <td>1</td>\n",
       "      <td>9.02</td>\n",
       "      <td>13.635</td>\n",
       "      <td>80</td>\n",
       "      <td>0.0</td>\n",
       "      <td>8</td>\n",
       "      <td>32</td>\n",
       "      <td>2011</td>\n",
       "      <td>1</td>\n",
       "      <td>5</td>\n",
       "      <td>1</td>\n",
       "    </tr>\n",
       "    <tr>\n",
       "      <th>2</th>\n",
       "      <td>2011-01-01 02:00:00</td>\n",
       "      <td>1</td>\n",
       "      <td>0</td>\n",
       "      <td>0</td>\n",
       "      <td>1</td>\n",
       "      <td>9.02</td>\n",
       "      <td>13.635</td>\n",
       "      <td>80</td>\n",
       "      <td>0.0</td>\n",
       "      <td>5</td>\n",
       "      <td>27</td>\n",
       "      <td>2011</td>\n",
       "      <td>2</td>\n",
       "      <td>5</td>\n",
       "      <td>1</td>\n",
       "    </tr>\n",
       "    <tr>\n",
       "      <th>3</th>\n",
       "      <td>2011-01-01 03:00:00</td>\n",
       "      <td>1</td>\n",
       "      <td>0</td>\n",
       "      <td>0</td>\n",
       "      <td>1</td>\n",
       "      <td>9.84</td>\n",
       "      <td>14.395</td>\n",
       "      <td>75</td>\n",
       "      <td>0.0</td>\n",
       "      <td>3</td>\n",
       "      <td>10</td>\n",
       "      <td>2011</td>\n",
       "      <td>3</td>\n",
       "      <td>5</td>\n",
       "      <td>1</td>\n",
       "    </tr>\n",
       "    <tr>\n",
       "      <th>4</th>\n",
       "      <td>2011-01-01 04:00:00</td>\n",
       "      <td>1</td>\n",
       "      <td>0</td>\n",
       "      <td>0</td>\n",
       "      <td>1</td>\n",
       "      <td>9.84</td>\n",
       "      <td>14.395</td>\n",
       "      <td>75</td>\n",
       "      <td>0.0</td>\n",
       "      <td>0</td>\n",
       "      <td>1</td>\n",
       "      <td>2011</td>\n",
       "      <td>4</td>\n",
       "      <td>5</td>\n",
       "      <td>1</td>\n",
       "    </tr>\n",
       "    <tr>\n",
       "      <th>...</th>\n",
       "      <td>...</td>\n",
       "      <td>...</td>\n",
       "      <td>...</td>\n",
       "      <td>...</td>\n",
       "      <td>...</td>\n",
       "      <td>...</td>\n",
       "      <td>...</td>\n",
       "      <td>...</td>\n",
       "      <td>...</td>\n",
       "      <td>...</td>\n",
       "      <td>...</td>\n",
       "      <td>...</td>\n",
       "      <td>...</td>\n",
       "      <td>...</td>\n",
       "      <td>...</td>\n",
       "    </tr>\n",
       "    <tr>\n",
       "      <th>10881</th>\n",
       "      <td>2012-12-19 19:00:00</td>\n",
       "      <td>4</td>\n",
       "      <td>0</td>\n",
       "      <td>1</td>\n",
       "      <td>1</td>\n",
       "      <td>15.58</td>\n",
       "      <td>19.695</td>\n",
       "      <td>50</td>\n",
       "      <td>26.0027</td>\n",
       "      <td>7</td>\n",
       "      <td>329</td>\n",
       "      <td>2012</td>\n",
       "      <td>19</td>\n",
       "      <td>2</td>\n",
       "      <td>12</td>\n",
       "    </tr>\n",
       "    <tr>\n",
       "      <th>10882</th>\n",
       "      <td>2012-12-19 20:00:00</td>\n",
       "      <td>4</td>\n",
       "      <td>0</td>\n",
       "      <td>1</td>\n",
       "      <td>1</td>\n",
       "      <td>14.76</td>\n",
       "      <td>17.425</td>\n",
       "      <td>57</td>\n",
       "      <td>15.0013</td>\n",
       "      <td>10</td>\n",
       "      <td>231</td>\n",
       "      <td>2012</td>\n",
       "      <td>20</td>\n",
       "      <td>2</td>\n",
       "      <td>12</td>\n",
       "    </tr>\n",
       "    <tr>\n",
       "      <th>10883</th>\n",
       "      <td>2012-12-19 21:00:00</td>\n",
       "      <td>4</td>\n",
       "      <td>0</td>\n",
       "      <td>1</td>\n",
       "      <td>1</td>\n",
       "      <td>13.94</td>\n",
       "      <td>15.91</td>\n",
       "      <td>61</td>\n",
       "      <td>15.0013</td>\n",
       "      <td>4</td>\n",
       "      <td>164</td>\n",
       "      <td>2012</td>\n",
       "      <td>21</td>\n",
       "      <td>2</td>\n",
       "      <td>12</td>\n",
       "    </tr>\n",
       "    <tr>\n",
       "      <th>10884</th>\n",
       "      <td>2012-12-19 22:00:00</td>\n",
       "      <td>4</td>\n",
       "      <td>0</td>\n",
       "      <td>1</td>\n",
       "      <td>1</td>\n",
       "      <td>13.94</td>\n",
       "      <td>17.425</td>\n",
       "      <td>61</td>\n",
       "      <td>6.0032</td>\n",
       "      <td>12</td>\n",
       "      <td>117</td>\n",
       "      <td>2012</td>\n",
       "      <td>22</td>\n",
       "      <td>2</td>\n",
       "      <td>12</td>\n",
       "    </tr>\n",
       "    <tr>\n",
       "      <th>10885</th>\n",
       "      <td>2012-12-19 23:00:00</td>\n",
       "      <td>4</td>\n",
       "      <td>0</td>\n",
       "      <td>1</td>\n",
       "      <td>1</td>\n",
       "      <td>13.12</td>\n",
       "      <td>16.665</td>\n",
       "      <td>66</td>\n",
       "      <td>8.9981</td>\n",
       "      <td>4</td>\n",
       "      <td>84</td>\n",
       "      <td>2012</td>\n",
       "      <td>23</td>\n",
       "      <td>2</td>\n",
       "      <td>12</td>\n",
       "    </tr>\n",
       "  </tbody>\n",
       "</table>\n",
       "<p>10886 rows × 15 columns</p>\n",
       "</div>"
      ],
      "text/plain": [
       "                       0  1  2  3  4      5       6   7        8   9    10  \\\n",
       "0     2011-01-01 00:00:00  1  0  0  1   9.84  14.395  81      0.0   3   13   \n",
       "1     2011-01-01 01:00:00  1  0  0  1   9.02  13.635  80      0.0   8   32   \n",
       "2     2011-01-01 02:00:00  1  0  0  1   9.02  13.635  80      0.0   5   27   \n",
       "3     2011-01-01 03:00:00  1  0  0  1   9.84  14.395  75      0.0   3   10   \n",
       "4     2011-01-01 04:00:00  1  0  0  1   9.84  14.395  75      0.0   0    1   \n",
       "...                   ... .. .. .. ..    ...     ...  ..      ...  ..  ...   \n",
       "10881 2012-12-19 19:00:00  4  0  1  1  15.58  19.695  50  26.0027   7  329   \n",
       "10882 2012-12-19 20:00:00  4  0  1  1  14.76  17.425  57  15.0013  10  231   \n",
       "10883 2012-12-19 21:00:00  4  0  1  1  13.94   15.91  61  15.0013   4  164   \n",
       "10884 2012-12-19 22:00:00  4  0  1  1  13.94  17.425  61   6.0032  12  117   \n",
       "10885 2012-12-19 23:00:00  4  0  1  1  13.12  16.665  66   8.9981   4   84   \n",
       "\n",
       "         11  12 13  14  \n",
       "0      2011   0  5   1  \n",
       "1      2011   1  5   1  \n",
       "2      2011   2  5   1  \n",
       "3      2011   3  5   1  \n",
       "4      2011   4  5   1  \n",
       "...     ...  .. ..  ..  \n",
       "10881  2012  19  2  12  \n",
       "10882  2012  20  2  12  \n",
       "10883  2012  21  2  12  \n",
       "10884  2012  22  2  12  \n",
       "10885  2012  23  2  12  \n",
       "\n",
       "[10886 rows x 15 columns]"
      ]
     },
     "execution_count": 12,
     "metadata": {},
     "output_type": "execute_result"
    }
   ],
   "source": [
    "X"
   ]
  },
  {
   "cell_type": "code",
   "execution_count": 13,
   "id": "85cf5fcf",
   "metadata": {
    "execution": {
     "iopub.execute_input": "2021-11-20T12:15:12.793852Z",
     "iopub.status.busy": "2021-11-20T12:15:12.793242Z",
     "iopub.status.idle": "2021-11-20T12:15:12.807869Z",
     "shell.execute_reply": "2021-11-20T12:15:12.808355Z",
     "shell.execute_reply.started": "2021-11-20T12:09:36.721329Z"
    },
    "papermill": {
     "duration": 0.040083,
     "end_time": "2021-11-20T12:15:12.808551",
     "exception": false,
     "start_time": "2021-11-20T12:15:12.768468",
     "status": "completed"
    },
    "tags": []
   },
   "outputs": [],
   "source": [
    "X.drop(0, inplace = True, axis = 1)       #0 -> datetime\n",
    "X.drop(6, inplace = True, axis = 1)       #6 -> atemp\n",
    "X.drop(8, inplace = True, axis = 1)       #8 -> windspeed\n",
    "X.drop(9, inplace = True, axis = 1)       #9 -> casual\n",
    "X.drop(10, inplace = True, axis = 1)      #10 -> registered\n",
    "X.drop(14, inplace = True, axis = 1)      #14 -> month\n",
    "X = X.to_numpy()"
   ]
  },
  {
   "cell_type": "code",
   "execution_count": 14,
   "id": "883a1e49",
   "metadata": {
    "execution": {
     "iopub.execute_input": "2021-11-20T12:15:12.859316Z",
     "iopub.status.busy": "2021-11-20T12:15:12.858616Z",
     "iopub.status.idle": "2021-11-20T12:15:12.864592Z",
     "shell.execute_reply": "2021-11-20T12:15:12.865046Z",
     "shell.execute_reply.started": "2021-11-20T12:09:36.742513Z"
    },
    "papermill": {
     "duration": 0.033761,
     "end_time": "2021-11-20T12:15:12.865220",
     "exception": false,
     "start_time": "2021-11-20T12:15:12.831459",
     "status": "completed"
    },
    "tags": []
   },
   "outputs": [],
   "source": [
    "X_train, X_test, y_train, y_test = train_test_split(X, y, test_size = 0.2, random_state = 0)"
   ]
  },
  {
   "cell_type": "code",
   "execution_count": 15,
   "id": "337e51fe",
   "metadata": {
    "execution": {
     "iopub.execute_input": "2021-11-20T12:15:12.914204Z",
     "iopub.status.busy": "2021-11-20T12:15:12.913323Z",
     "iopub.status.idle": "2021-11-20T12:15:12.916352Z",
     "shell.execute_reply": "2021-11-20T12:15:12.916768Z",
     "shell.execute_reply.started": "2021-11-20T12:09:36.754049Z"
    },
    "papermill": {
     "duration": 0.029391,
     "end_time": "2021-11-20T12:15:12.916930",
     "exception": false,
     "start_time": "2021-11-20T12:15:12.887539",
     "status": "completed"
    },
    "tags": []
   },
   "outputs": [],
   "source": [
    "# sc = StandardScaler()\n",
    "# X_train[:, :] = sc.fit_transform(X_train[:, :])\n",
    "# X_test[:, :] = sc.transform(X_test[:, :])"
   ]
  },
  {
   "cell_type": "code",
   "execution_count": 16,
   "id": "3e22d6d6",
   "metadata": {
    "execution": {
     "iopub.execute_input": "2021-11-20T12:15:12.964597Z",
     "iopub.status.busy": "2021-11-20T12:15:12.963685Z",
     "iopub.status.idle": "2021-11-20T12:15:24.959792Z",
     "shell.execute_reply": "2021-11-20T12:15:24.959311Z",
     "shell.execute_reply.started": "2021-11-20T12:09:36.762632Z"
    },
    "papermill": {
     "duration": 12.021075,
     "end_time": "2021-11-20T12:15:24.959939",
     "exception": false,
     "start_time": "2021-11-20T12:15:12.938864",
     "status": "completed"
    },
    "tags": []
   },
   "outputs": [
    {
     "data": {
      "text/plain": [
       "RandomForestRegressor(n_estimators=500, random_state=0)"
      ]
     },
     "execution_count": 16,
     "metadata": {},
     "output_type": "execute_result"
    }
   ],
   "source": [
    "# Building  Random Forest Regressor\n",
    "regressor = RandomForestRegressor(n_estimators = 500, random_state = 0)\n",
    "#regressor.fit(X_train, y_train)\n",
    "y_train_log = np.log1p(y_train)\n",
    "regressor.fit(X_train, y_train_log)"
   ]
  },
  {
   "cell_type": "code",
   "execution_count": 17,
   "id": "4dfd9527",
   "metadata": {
    "execution": {
     "iopub.execute_input": "2021-11-20T12:15:25.009803Z",
     "iopub.status.busy": "2021-11-20T12:15:25.008875Z",
     "iopub.status.idle": "2021-11-20T12:15:25.011722Z",
     "shell.execute_reply": "2021-11-20T12:15:25.012293Z",
     "shell.execute_reply.started": "2021-11-20T12:09:49.016924Z"
    },
    "papermill": {
     "duration": 0.029899,
     "end_time": "2021-11-20T12:15:25.012452",
     "exception": false,
     "start_time": "2021-11-20T12:15:24.982553",
     "status": "completed"
    },
    "tags": []
   },
   "outputs": [],
   "source": [
    "# Evaluating on Training set\n",
    "# reg_pred_train = regressor.predict(X_train)"
   ]
  },
  {
   "cell_type": "code",
   "execution_count": 18,
   "id": "31d5d06c",
   "metadata": {
    "execution": {
     "iopub.execute_input": "2021-11-20T12:15:25.061398Z",
     "iopub.status.busy": "2021-11-20T12:15:25.060494Z",
     "iopub.status.idle": "2021-11-20T12:15:25.091147Z",
     "shell.execute_reply": "2021-11-20T12:15:25.091632Z",
     "shell.execute_reply.started": "2021-11-20T12:09:49.021764Z"
    },
    "papermill": {
     "duration": 0.056472,
     "end_time": "2021-11-20T12:15:25.091798",
     "exception": false,
     "start_time": "2021-11-20T12:15:25.035326",
     "status": "completed"
    },
    "tags": []
   },
   "outputs": [],
   "source": [
    "X_ans = pd.DataFrame(test.values)"
   ]
  },
  {
   "cell_type": "code",
   "execution_count": 19,
   "id": "35d810f7",
   "metadata": {
    "execution": {
     "iopub.execute_input": "2021-11-20T12:15:25.144063Z",
     "iopub.status.busy": "2021-11-20T12:15:25.142551Z",
     "iopub.status.idle": "2021-11-20T12:15:25.149579Z",
     "shell.execute_reply": "2021-11-20T12:15:25.150062Z",
     "shell.execute_reply.started": "2021-11-20T12:09:49.246724Z"
    },
    "papermill": {
     "duration": 0.03485,
     "end_time": "2021-11-20T12:15:25.150218",
     "exception": false,
     "start_time": "2021-11-20T12:15:25.115368",
     "status": "completed"
    },
    "tags": []
   },
   "outputs": [],
   "source": [
    "X_ans.drop(8, inplace = True, axis = 1)     #windspeed\n",
    "X_ans.drop(6, inplace = True, axis = 1)     #atemp\n",
    "X_ans.drop(0, inplace = True, axis = 1)     #datetime\n",
    "X_ans.drop(12, inplace = True, axis = 1)    #month\n",
    "X_ans = X_ans.to_numpy()"
   ]
  },
  {
   "cell_type": "code",
   "execution_count": 20,
   "id": "f419b782",
   "metadata": {
    "execution": {
     "iopub.execute_input": "2021-11-20T12:15:25.201332Z",
     "iopub.status.busy": "2021-11-20T12:15:25.197872Z",
     "iopub.status.idle": "2021-11-20T12:15:25.782521Z",
     "shell.execute_reply": "2021-11-20T12:15:25.781925Z",
     "shell.execute_reply.started": "2021-11-20T12:09:49.261673Z"
    },
    "papermill": {
     "duration": 0.610132,
     "end_time": "2021-11-20T12:15:25.782656",
     "exception": false,
     "start_time": "2021-11-20T12:15:25.172524",
     "status": "completed"
    },
    "tags": []
   },
   "outputs": [],
   "source": [
    "reg_pred_test = regressor.predict(X_ans)"
   ]
  },
  {
   "cell_type": "code",
   "execution_count": 21,
   "id": "77e234d9",
   "metadata": {
    "execution": {
     "iopub.execute_input": "2021-11-20T12:15:25.833325Z",
     "iopub.status.busy": "2021-11-20T12:15:25.832339Z",
     "iopub.status.idle": "2021-11-20T12:15:25.834402Z",
     "shell.execute_reply": "2021-11-20T12:15:25.834854Z",
     "shell.execute_reply.started": "2021-11-20T12:09:49.865559Z"
    },
    "papermill": {
     "duration": 0.02991,
     "end_time": "2021-11-20T12:15:25.835076",
     "exception": false,
     "start_time": "2021-11-20T12:15:25.805166",
     "status": "completed"
    },
    "tags": []
   },
   "outputs": [],
   "source": [
    "reg_pred_test = pd.DataFrame(reg_pred_test)"
   ]
  },
  {
   "cell_type": "code",
   "execution_count": 22,
   "id": "bb922256",
   "metadata": {
    "execution": {
     "iopub.execute_input": "2021-11-20T12:15:25.883769Z",
     "iopub.status.busy": "2021-11-20T12:15:25.882868Z",
     "iopub.status.idle": "2021-11-20T12:15:25.886649Z",
     "shell.execute_reply": "2021-11-20T12:15:25.887212Z",
     "shell.execute_reply.started": "2021-11-20T12:09:49.872661Z"
    },
    "papermill": {
     "duration": 0.029695,
     "end_time": "2021-11-20T12:15:25.887392",
     "exception": false,
     "start_time": "2021-11-20T12:15:25.857697",
     "status": "completed"
    },
    "tags": []
   },
   "outputs": [],
   "source": [
    "reg_pred_test.columns = ['count']"
   ]
  },
  {
   "cell_type": "code",
   "execution_count": 23,
   "id": "d0f7f348",
   "metadata": {
    "execution": {
     "iopub.execute_input": "2021-11-20T12:15:25.942264Z",
     "iopub.status.busy": "2021-11-20T12:15:25.941310Z",
     "iopub.status.idle": "2021-11-20T12:15:25.943694Z",
     "shell.execute_reply": "2021-11-20T12:15:25.944252Z",
     "shell.execute_reply.started": "2021-11-20T12:09:49.886069Z"
    },
    "papermill": {
     "duration": 0.032822,
     "end_time": "2021-11-20T12:15:25.944408",
     "exception": false,
     "start_time": "2021-11-20T12:15:25.911586",
     "status": "completed"
    },
    "tags": []
   },
   "outputs": [],
   "source": [
    "answer = pd.concat((test.iloc[:, 0], np.exp(pd.DataFrame(reg_pred_test))), axis = 1)"
   ]
  },
  {
   "cell_type": "code",
   "execution_count": 24,
   "id": "62791c5a",
   "metadata": {
    "execution": {
     "iopub.execute_input": "2021-11-20T12:15:25.993106Z",
     "iopub.status.busy": "2021-11-20T12:15:25.992236Z",
     "iopub.status.idle": "2021-11-20T12:15:26.003221Z",
     "shell.execute_reply": "2021-11-20T12:15:26.003704Z",
     "shell.execute_reply.started": "2021-11-20T12:09:49.900441Z"
    },
    "papermill": {
     "duration": 0.036669,
     "end_time": "2021-11-20T12:15:26.003870",
     "exception": false,
     "start_time": "2021-11-20T12:15:25.967201",
     "status": "completed"
    },
    "tags": []
   },
   "outputs": [
    {
     "data": {
      "text/html": [
       "<div>\n",
       "<style scoped>\n",
       "    .dataframe tbody tr th:only-of-type {\n",
       "        vertical-align: middle;\n",
       "    }\n",
       "\n",
       "    .dataframe tbody tr th {\n",
       "        vertical-align: top;\n",
       "    }\n",
       "\n",
       "    .dataframe thead th {\n",
       "        text-align: right;\n",
       "    }\n",
       "</style>\n",
       "<table border=\"1\" class=\"dataframe\">\n",
       "  <thead>\n",
       "    <tr style=\"text-align: right;\">\n",
       "      <th></th>\n",
       "      <th>datetime</th>\n",
       "      <th>count</th>\n",
       "    </tr>\n",
       "  </thead>\n",
       "  <tbody>\n",
       "    <tr>\n",
       "      <th>0</th>\n",
       "      <td>2011-01-20 00:00:00</td>\n",
       "      <td>14.121745</td>\n",
       "    </tr>\n",
       "    <tr>\n",
       "      <th>1</th>\n",
       "      <td>2011-01-20 01:00:00</td>\n",
       "      <td>5.370473</td>\n",
       "    </tr>\n",
       "    <tr>\n",
       "      <th>2</th>\n",
       "      <td>2011-01-20 02:00:00</td>\n",
       "      <td>3.800311</td>\n",
       "    </tr>\n",
       "    <tr>\n",
       "      <th>3</th>\n",
       "      <td>2011-01-20 03:00:00</td>\n",
       "      <td>4.634092</td>\n",
       "    </tr>\n",
       "    <tr>\n",
       "      <th>4</th>\n",
       "      <td>2011-01-20 04:00:00</td>\n",
       "      <td>3.694105</td>\n",
       "    </tr>\n",
       "    <tr>\n",
       "      <th>...</th>\n",
       "      <td>...</td>\n",
       "      <td>...</td>\n",
       "    </tr>\n",
       "    <tr>\n",
       "      <th>6488</th>\n",
       "      <td>2012-12-31 19:00:00</td>\n",
       "      <td>197.909900</td>\n",
       "    </tr>\n",
       "    <tr>\n",
       "      <th>6489</th>\n",
       "      <td>2012-12-31 20:00:00</td>\n",
       "      <td>156.338657</td>\n",
       "    </tr>\n",
       "    <tr>\n",
       "      <th>6490</th>\n",
       "      <td>2012-12-31 21:00:00</td>\n",
       "      <td>104.997597</td>\n",
       "    </tr>\n",
       "    <tr>\n",
       "      <th>6491</th>\n",
       "      <td>2012-12-31 22:00:00</td>\n",
       "      <td>96.438808</td>\n",
       "    </tr>\n",
       "    <tr>\n",
       "      <th>6492</th>\n",
       "      <td>2012-12-31 23:00:00</td>\n",
       "      <td>45.686860</td>\n",
       "    </tr>\n",
       "  </tbody>\n",
       "</table>\n",
       "<p>6493 rows × 2 columns</p>\n",
       "</div>"
      ],
      "text/plain": [
       "                datetime       count\n",
       "0    2011-01-20 00:00:00   14.121745\n",
       "1    2011-01-20 01:00:00    5.370473\n",
       "2    2011-01-20 02:00:00    3.800311\n",
       "3    2011-01-20 03:00:00    4.634092\n",
       "4    2011-01-20 04:00:00    3.694105\n",
       "...                  ...         ...\n",
       "6488 2012-12-31 19:00:00  197.909900\n",
       "6489 2012-12-31 20:00:00  156.338657\n",
       "6490 2012-12-31 21:00:00  104.997597\n",
       "6491 2012-12-31 22:00:00   96.438808\n",
       "6492 2012-12-31 23:00:00   45.686860\n",
       "\n",
       "[6493 rows x 2 columns]"
      ]
     },
     "execution_count": 24,
     "metadata": {},
     "output_type": "execute_result"
    }
   ],
   "source": [
    "answer"
   ]
  },
  {
   "cell_type": "code",
   "execution_count": 25,
   "id": "3142409d",
   "metadata": {
    "execution": {
     "iopub.execute_input": "2021-11-20T12:15:26.053321Z",
     "iopub.status.busy": "2021-11-20T12:15:26.052431Z",
     "iopub.status.idle": "2021-11-20T12:15:26.084044Z",
     "shell.execute_reply": "2021-11-20T12:15:26.084575Z",
     "shell.execute_reply.started": "2021-11-20T12:09:49.921137Z"
    },
    "papermill": {
     "duration": 0.057834,
     "end_time": "2021-11-20T12:15:26.084745",
     "exception": false,
     "start_time": "2021-11-20T12:15:26.026911",
     "status": "completed"
    },
    "tags": []
   },
   "outputs": [],
   "source": [
    "answer.to_csv('submission.csv', index = False)"
   ]
  },
  {
   "cell_type": "code",
   "execution_count": null,
   "id": "72ec304c",
   "metadata": {
    "papermill": {
     "duration": 0.023081,
     "end_time": "2021-11-20T12:15:26.131242",
     "exception": false,
     "start_time": "2021-11-20T12:15:26.108161",
     "status": "completed"
    },
    "tags": []
   },
   "outputs": [],
   "source": []
  }
 ],
 "metadata": {
  "kernelspec": {
   "display_name": "Python 3",
   "language": "python",
   "name": "python3"
  },
  "language_info": {
   "codemirror_mode": {
    "name": "ipython",
    "version": 3
   },
   "file_extension": ".py",
   "mimetype": "text/x-python",
   "name": "python",
   "nbconvert_exporter": "python",
   "pygments_lexer": "ipython3",
   "version": "3.7.10"
  },
  "papermill": {
   "default_parameters": {},
   "duration": 27.272798,
   "end_time": "2021-11-20T12:15:26.864486",
   "environment_variables": {},
   "exception": null,
   "input_path": "__notebook__.ipynb",
   "output_path": "__notebook__.ipynb",
   "parameters": {},
   "start_time": "2021-11-20T12:14:59.591688",
   "version": "2.3.3"
  }
 },
 "nbformat": 4,
 "nbformat_minor": 5
}
